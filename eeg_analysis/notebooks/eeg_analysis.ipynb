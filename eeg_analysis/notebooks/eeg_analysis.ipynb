{
 "cells": [
  {
   "cell_type": "code",
   "execution_count": 1,
   "metadata": {},
   "outputs": [
    {
     "ename": "ModuleNotFoundError",
     "evalue": "No module named 'load_eeg_data'",
     "output_type": "error",
     "traceback": [
      "\u001b[1;31m---------------------------------------------------------------------------\u001b[0m",
      "\u001b[1;31mModuleNotFoundError\u001b[0m                       Traceback (most recent call last)",
      "Cell \u001b[1;32mIn[1], line 1\u001b[0m\n\u001b[1;32m----> 1\u001b[0m \u001b[38;5;28;01mfrom\u001b[39;00m \u001b[38;5;21;01mload_eeg_data\u001b[39;00m \u001b[38;5;28;01mimport\u001b[39;00m load_eeg_data\n\u001b[0;32m      3\u001b[0m data_folder \u001b[38;5;241m=\u001b[39m \u001b[38;5;124mr\u001b[39m\u001b[38;5;124m'\u001b[39m\u001b[38;5;124mC:\u001b[39m\u001b[38;5;124m\\\u001b[39m\u001b[38;5;124mUsers\u001b[39m\u001b[38;5;124m\\\u001b[39m\u001b[38;5;124mmohdm\u001b[39m\u001b[38;5;124m\\\u001b[39m\u001b[38;5;124mOneDrive\u001b[39m\u001b[38;5;124m\\\u001b[39m\u001b[38;5;124mDesktop\u001b[39m\u001b[38;5;124m\\\u001b[39m\u001b[38;5;124meeg_analysis\u001b[39m\u001b[38;5;124m\\\u001b[39m\u001b[38;5;124mdata\u001b[39m\u001b[38;5;124m'\u001b[39m\n\u001b[0;32m      4\u001b[0m file_paths \u001b[38;5;241m=\u001b[39m [ \u001b[38;5;124mr\u001b[39m\u001b[38;5;124m\"\u001b[39m\u001b[38;5;124mC:\u001b[39m\u001b[38;5;124m\\\u001b[39m\u001b[38;5;124mUsers\u001b[39m\u001b[38;5;124m\\\u001b[39m\u001b[38;5;124mmohdm\u001b[39m\u001b[38;5;124m\\\u001b[39m\u001b[38;5;124mOneDrive\u001b[39m\u001b[38;5;124m\\\u001b[39m\u001b[38;5;124mDesktop\u001b[39m\u001b[38;5;124m\\\u001b[39m\u001b[38;5;124meeg_analysis\u001b[39m\u001b[38;5;124m\\\u001b[39m\u001b[38;5;124mdata\u001b[39m\u001b[38;5;124m\\\u001b[39m\u001b[38;5;124mSubject30_1.edf\u001b[39m\u001b[38;5;124m\"\u001b[39m,\n\u001b[0;32m      5\u001b[0m \u001b[38;5;124mr\u001b[39m\u001b[38;5;124m\"\u001b[39m\u001b[38;5;124mC:\u001b[39m\u001b[38;5;124m\\\u001b[39m\u001b[38;5;124mUsers\u001b[39m\u001b[38;5;124m\\\u001b[39m\u001b[38;5;124mmohdm\u001b[39m\u001b[38;5;124m\\\u001b[39m\u001b[38;5;124mOneDrive\u001b[39m\u001b[38;5;124m\\\u001b[39m\u001b[38;5;124mDesktop\u001b[39m\u001b[38;5;124m\\\u001b[39m\u001b[38;5;124meeg_analysis\u001b[39m\u001b[38;5;124m\\\u001b[39m\u001b[38;5;124mdata\u001b[39m\u001b[38;5;124m\\\u001b[39m\u001b[38;5;124mSubject30_2.edf\u001b[39m\u001b[38;5;124m\"\u001b[39m,\n\u001b[0;32m      6\u001b[0m \u001b[38;5;124mr\u001b[39m\u001b[38;5;124m\"\u001b[39m\u001b[38;5;124mC:\u001b[39m\u001b[38;5;124m\\\u001b[39m\u001b[38;5;124mUsers\u001b[39m\u001b[38;5;124m\\\u001b[39m\u001b[38;5;124mmohdm\u001b[39m\u001b[38;5;124m\\\u001b[39m\u001b[38;5;124mOneDrive\u001b[39m\u001b[38;5;124m\\\u001b[39m\u001b[38;5;124mDesktop\u001b[39m\u001b[38;5;124m\\\u001b[39m\u001b[38;5;124meeg_analysis\u001b[39m\u001b[38;5;124m\\\u001b[39m\u001b[38;5;124mdata\u001b[39m\u001b[38;5;124m\\\u001b[39m\u001b[38;5;124mSubject31_1.edf\u001b[39m\u001b[38;5;124m\"\u001b[39m,\n\u001b[1;32m   (...)\u001b[0m\n\u001b[0;32m     74\u001b[0m \u001b[38;5;124mr\u001b[39m\u001b[38;5;124m\"\u001b[39m\u001b[38;5;124mC:\u001b[39m\u001b[38;5;124m\\\u001b[39m\u001b[38;5;124mUsers\u001b[39m\u001b[38;5;124m\\\u001b[39m\u001b[38;5;124mmohdm\u001b[39m\u001b[38;5;124m\\\u001b[39m\u001b[38;5;124mOneDrive\u001b[39m\u001b[38;5;124m\\\u001b[39m\u001b[38;5;124mDesktop\u001b[39m\u001b[38;5;124m\\\u001b[39m\u001b[38;5;124meeg_analysis\u001b[39m\u001b[38;5;124m\\\u001b[39m\u001b[38;5;124mdata\u001b[39m\u001b[38;5;124m\\\u001b[39m\u001b[38;5;124mSubject29_1.edf\u001b[39m\u001b[38;5;124m\"\u001b[39m,\n\u001b[0;32m     75\u001b[0m \u001b[38;5;124mr\u001b[39m\u001b[38;5;124m\"\u001b[39m\u001b[38;5;124mC:\u001b[39m\u001b[38;5;124m\\\u001b[39m\u001b[38;5;124mUsers\u001b[39m\u001b[38;5;124m\\\u001b[39m\u001b[38;5;124mmohdm\u001b[39m\u001b[38;5;124m\\\u001b[39m\u001b[38;5;124mOneDrive\u001b[39m\u001b[38;5;124m\\\u001b[39m\u001b[38;5;124mDesktop\u001b[39m\u001b[38;5;124m\\\u001b[39m\u001b[38;5;124meeg_analysis\u001b[39m\u001b[38;5;124m\\\u001b[39m\u001b[38;5;124mdata\u001b[39m\u001b[38;5;124m\\\u001b[39m\u001b[38;5;124mSubject29_2.edf\u001b[39m\u001b[38;5;124m\"\u001b[39m] \n",
      "\u001b[1;31mModuleNotFoundError\u001b[0m: No module named 'load_eeg_data'"
     ]
    }
   ],
   "source": [
    "from load_eeg_data import load_eeg_data\n",
    "\n",
    "data_folder = r'C:\\Users\\mohdm\\OneDrive\\Desktop\\eeg_analysis\\data'\n",
    "file_paths = [ r\"C:\\Users\\mohdm\\OneDrive\\Desktop\\eeg_analysis\\data\\Subject30_1.edf\",\n",
    "r\"C:\\Users\\mohdm\\OneDrive\\Desktop\\eeg_analysis\\data\\Subject30_2.edf\",\n",
    "r\"C:\\Users\\mohdm\\OneDrive\\Desktop\\eeg_analysis\\data\\Subject31_1.edf\",\n",
    "r\"C:\\Users\\mohdm\\OneDrive\\Desktop\\eeg_analysis\\data\\Subject31_2.edf\",\n",
    "r\"C:\\Users\\mohdm\\OneDrive\\Desktop\\eeg_analysis\\data\\Subject32_1.edf\",\n",
    "r\"C:\\Users\\mohdm\\OneDrive\\Desktop\\eeg_analysis\\data\\Subject32_2.edf\",\n",
    "r\"C:\\Users\\mohdm\\OneDrive\\Desktop\\eeg_analysis\\data\\Subject33_1.edf\",\n",
    "r\"C:\\Users\\mohdm\\OneDrive\\Desktop\\eeg_analysis\\data\\Subject33_2.edf\",\n",
    "r\"C:\\Users\\mohdm\\OneDrive\\Desktop\\eeg_analysis\\data\\Subject34_1.edf\",\n",
    "r\"C:\\Users\\mohdm\\OneDrive\\Desktop\\eeg_analysis\\data\\Subject34_2.edf\",\n",
    "r\"C:\\Users\\mohdm\\OneDrive\\Desktop\\eeg_analysis\\data\\Subject35_1.edf\",\n",
    "r\"C:\\Users\\mohdm\\OneDrive\\Desktop\\eeg_analysis\\data\\Subject35_2.edf\",\n",
    "r\"C:\\Users\\mohdm\\OneDrive\\Desktop\\eeg_analysis\\data\\Subject00_1.edf\",\n",
    "r\"C:\\Users\\mohdm\\OneDrive\\Desktop\\eeg_analysis\\data\\Subject00_2.edf\",\n",
    "r\"C:\\Users\\mohdm\\OneDrive\\Desktop\\eeg_analysis\\data\\Subject01_1.edf\",\n",
    "r\"C:\\Users\\mohdm\\OneDrive\\Desktop\\eeg_analysis\\data\\Subject01_2.edf\",\n",
    "r\"C:\\Users\\mohdm\\OneDrive\\Desktop\\eeg_analysis\\data\\Subject02_1.edf\",\n",
    "r\"C:\\Users\\mohdm\\OneDrive\\Desktop\\eeg_analysis\\data\\Subject02_2.edf\",\n",
    "r\"C:\\Users\\mohdm\\OneDrive\\Desktop\\eeg_analysis\\data\\Subject03_1.edf\",\n",
    "r\"C:\\Users\\mohdm\\OneDrive\\Desktop\\eeg_analysis\\data\\Subject03_2.edf\",\n",
    "r\"C:\\Users\\mohdm\\OneDrive\\Desktop\\eeg_analysis\\data\\Subject04_1.edf\",\n",
    "r\"C:\\Users\\mohdm\\OneDrive\\Desktop\\eeg_analysis\\data\\Subject04_2.edf\",\n",
    "r\"C:\\Users\\mohdm\\OneDrive\\Desktop\\eeg_analysis\\data\\Subject05_1.edf\",\n",
    "r\"C:\\Users\\mohdm\\OneDrive\\Desktop\\eeg_analysis\\data\\Subject05_2.edf\",\n",
    "r\"C:\\Users\\mohdm\\OneDrive\\Desktop\\eeg_analysis\\data\\Subject06_1.edf\",\n",
    "r\"C:\\Users\\mohdm\\OneDrive\\Desktop\\eeg_analysis\\data\\Subject06_2.edf\",\n",
    "r\"C:\\Users\\mohdm\\OneDrive\\Desktop\\eeg_analysis\\data\\Subject07_1.edf\",\n",
    "r\"C:\\Users\\mohdm\\OneDrive\\Desktop\\eeg_analysis\\data\\Subject07_2.edf\",\n",
    "r\"C:\\Users\\mohdm\\OneDrive\\Desktop\\eeg_analysis\\data\\Subject08_1.edf\",\n",
    "r\"C:\\Users\\mohdm\\OneDrive\\Desktop\\eeg_analysis\\data\\Subject08_2.edf\",\n",
    "r\"C:\\Users\\mohdm\\OneDrive\\Desktop\\eeg_analysis\\data\\Subject09_1.edf\",\n",
    "r\"C:\\Users\\mohdm\\OneDrive\\Desktop\\eeg_analysis\\data\\Subject09_2.edf\",\n",
    "r\"C:\\Users\\mohdm\\OneDrive\\Desktop\\eeg_analysis\\data\\Subject10_1.edf\",\n",
    "r\"C:\\Users\\mohdm\\OneDrive\\Desktop\\eeg_analysis\\data\\Subject10_2.edf\",\n",
    "r\"C:\\Users\\mohdm\\OneDrive\\Desktop\\eeg_analysis\\data\\Subject11_1.edf\",\n",
    "r\"C:\\Users\\mohdm\\OneDrive\\Desktop\\eeg_analysis\\data\\Subject11_2.edf\",\n",
    "r\"C:\\Users\\mohdm\\OneDrive\\Desktop\\eeg_analysis\\data\\Subject12_1.edf\",\n",
    "r\"C:\\Users\\mohdm\\OneDrive\\Desktop\\eeg_analysis\\data\\Subject12_2.edf\",\n",
    "r\"C:\\Users\\mohdm\\OneDrive\\Desktop\\eeg_analysis\\data\\Subject13_1.edf\",\n",
    "r\"C:\\Users\\mohdm\\OneDrive\\Desktop\\eeg_analysis\\data\\Subject13_2.edf\",\n",
    "r\"C:\\Users\\mohdm\\OneDrive\\Desktop\\eeg_analysis\\data\\Subject14_1.edf\",\n",
    "r\"C:\\Users\\mohdm\\OneDrive\\Desktop\\eeg_analysis\\data\\Subject14_2.edf\",\n",
    "r\"C:\\Users\\mohdm\\OneDrive\\Desktop\\eeg_analysis\\data\\Subject15_1.edf\",\n",
    "r\"C:\\Users\\mohdm\\OneDrive\\Desktop\\eeg_analysis\\data\\Subject15_2.edf\",\n",
    "r\"C:\\Users\\mohdm\\OneDrive\\Desktop\\eeg_analysis\\data\\Subject16_1.edf\",\n",
    "r\"C:\\Users\\mohdm\\OneDrive\\Desktop\\eeg_analysis\\data\\Subject16_2.edf\",\n",
    "r\"C:\\Users\\mohdm\\OneDrive\\Desktop\\eeg_analysis\\data\\Subject17_1.edf\",\n",
    "r\"C:\\Users\\mohdm\\OneDrive\\Desktop\\eeg_analysis\\data\\Subject17_2.edf\",\n",
    "r\"C:\\Users\\mohdm\\OneDrive\\Desktop\\eeg_analysis\\data\\Subject18_1.edf\",\n",
    "r\"C:\\Users\\mohdm\\OneDrive\\Desktop\\eeg_analysis\\data\\Subject18_2.edf\",\n",
    "r\"C:\\Users\\mohdm\\OneDrive\\Desktop\\eeg_analysis\\data\\Subject19_1.edf\",\n",
    "r\"C:\\Users\\mohdm\\OneDrive\\Desktop\\eeg_analysis\\data\\Subject19_2.edf\",\n",
    "r\"C:\\Users\\mohdm\\OneDrive\\Desktop\\eeg_analysis\\data\\Subject20_1.edf\",\n",
    "r\"C:\\Users\\mohdm\\OneDrive\\Desktop\\eeg_analysis\\data\\Subject20_2.edf\",\n",
    "r\"C:\\Users\\mohdm\\OneDrive\\Desktop\\eeg_analysis\\data\\Subject21_1.edf\",\n",
    "r\"C:\\Users\\mohdm\\OneDrive\\Desktop\\eeg_analysis\\data\\Subject21_2.edf\",\n",
    "r\"C:\\Users\\mohdm\\OneDrive\\Desktop\\eeg_analysis\\data\\Subject22_1.edf\",\n",
    "r\"C:\\Users\\mohdm\\OneDrive\\Desktop\\eeg_analysis\\data\\Subject22_2.edf\",\n",
    "r\"C:\\Users\\mohdm\\OneDrive\\Desktop\\eeg_analysis\\data\\Subject23_1.edf\",\n",
    "r\"C:\\Users\\mohdm\\OneDrive\\Desktop\\eeg_analysis\\data\\Subject23_2.edf\",\n",
    "r\"C:\\Users\\mohdm\\OneDrive\\Desktop\\eeg_analysis\\data\\Subject24_1.edf\",\n",
    "r\"C:\\Users\\mohdm\\OneDrive\\Desktop\\eeg_analysis\\data\\Subject24_2.edf\",\n",
    "r\"C:\\Users\\mohdm\\OneDrive\\Desktop\\eeg_analysis\\data\\Subject25_1.edf\",\n",
    "r\"C:\\Users\\mohdm\\OneDrive\\Desktop\\eeg_analysis\\data\\Subject25_2.edf\",\n",
    "r\"C:\\Users\\mohdm\\OneDrive\\Desktop\\eeg_analysis\\data\\Subject26_1.edf\",\n",
    "r\"C:\\Users\\mohdm\\OneDrive\\Desktop\\eeg_analysis\\data\\Subject26_2.edf\",\n",
    "r\"C:\\Users\\mohdm\\OneDrive\\Desktop\\eeg_analysis\\data\\Subject27_1.edf\",\n",
    "r\"C:\\Users\\mohdm\\OneDrive\\Desktop\\eeg_analysis\\data\\Subject27_2.edf\",\n",
    "r\"C:\\Users\\mohdm\\OneDrive\\Desktop\\eeg_analysis\\data\\Subject28_1.edf\",\n",
    "r\"C:\\Users\\mohdm\\OneDrive\\Desktop\\eeg_analysis\\data\\Subject28_2.edf\",\n",
    "r\"C:\\Users\\mohdm\\OneDrive\\Desktop\\eeg_analysis\\data\\Subject29_1.edf\",\n",
    "r\"C:\\Users\\mohdm\\OneDrive\\Desktop\\eeg_analysis\\data\\Subject29_2.edf\"] \n",
    "raw_data = load_eeg_data(file_paths)\n"
   ]
  },
  {
   "cell_type": "code",
   "execution_count": 3,
   "metadata": {},
   "outputs": [
    {
     "ename": "ModuleNotFoundError",
     "evalue": "No module named 'psd_analysis'",
     "output_type": "error",
     "traceback": [
      "\u001b[1;31m---------------------------------------------------------------------------\u001b[0m",
      "\u001b[1;31mModuleNotFoundError\u001b[0m                       Traceback (most recent call last)",
      "Cell \u001b[1;32mIn[3], line 1\u001b[0m\n\u001b[1;32m----> 1\u001b[0m \u001b[38;5;28;01mfrom\u001b[39;00m \u001b[38;5;21;01mpsd_analysis\u001b[39;00m \u001b[38;5;28;01mimport\u001b[39;00m calculate_psd, save_psd_results\n\u001b[0;32m      3\u001b[0m psd_results, freqs \u001b[38;5;241m=\u001b[39m calculate_psd(raw_data)\n\u001b[0;32m      4\u001b[0m save_psd_results(psd_results, freqs)\n",
      "\u001b[1;31mModuleNotFoundError\u001b[0m: No module named 'psd_analysis'"
     ]
    }
   ],
   "source": [
    "from psd_analysis import calculate_psd, save_psd_results\n",
    "\n",
    "psd_results, freqs = calculate_psd(raw_data)\n",
    "save_psd_results(psd_results, freqs)\n"
   ]
  }
 ],
 "metadata": {
  "kernelspec": {
   "display_name": "Python 3",
   "language": "python",
   "name": "python3"
  },
  "language_info": {
   "codemirror_mode": {
    "name": "ipython",
    "version": 3
   },
   "file_extension": ".py",
   "mimetype": "text/x-python",
   "name": "python",
   "nbconvert_exporter": "python",
   "pygments_lexer": "ipython3",
   "version": "3.10.2"
  }
 },
 "nbformat": 4,
 "nbformat_minor": 2
}
